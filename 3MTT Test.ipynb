{
 "cells": [
  {
   "cell_type": "markdown",
   "id": "73e489aa-a016-49f5-9b6e-b1f5fb20983f",
   "metadata": {},
   "source": [
    "## 3MTT Data Science Test"
   ]
  },
  {
   "cell_type": "markdown",
   "id": "b8d88dda-f3f9-48dd-a4b4-aa5944a392f9",
   "metadata": {},
   "source": [
    "- Name: **Adjicheboutou Abiola Paul**\n",
    "- Phone number: **09136604365**\n",
    "- Email Address: **adjicheboutouabiola@gmail.com**"
   ]
  },
  {
   "cell_type": "markdown",
   "id": "1b9ff9fa-7d75-4728-a528-fac5b8d45779",
   "metadata": {},
   "source": [
    "### Category A"
   ]
  },
  {
   "cell_type": "markdown",
   "id": "019a23a5-6093-473d-b27d-b977a929e274",
   "metadata": {},
   "source": [
    "##### I-Data Analysis and Data Science"
   ]
  },
  {
   "cell_type": "markdown",
   "id": "6fc7a2c8-d622-48f7-a66d-9c5f30163e75",
   "metadata": {},
   "source": [
    "- **Data analysis** is the process of examining, cleaning, transforming, and interpreting data to uncover meaningful insights. It focuses on understanding historical data and extracting patterns, trends, and relationships.\n",
    "- **Data Science** is a broader field that encompasses various disciplines such as data analysis, machine learning, statistics, computer science, and domain knowledge. It involves mining large datasets, discovering innovative insights, and building predictive models.\n",
    "- In summary, data analysis focuses on extracting insights from data using statistical and analytical techniques, while data science involves a broader range of activities, including data analysis, machine learning, and computational methods, to solve complex problems and drive decision-making."
   ]
  },
  {
   "cell_type": "markdown",
   "id": "6dc248a8-66ba-4109-87f2-a6d604c71934",
   "metadata": {},
   "source": [
    "##### II-The Life Cycle of a Data Analysis "
   ]
  },
  {
   "cell_type": "markdown",
   "id": "342352bf-7b64-4259-a3fd-8db145cdcb2d",
   "metadata": {},
   "source": [
    "The life cycle of data analysis typically involves several stages or steps, each of which contributes to the overall process of deriving insights from data. While the specific steps may vary depending on the context and objectives of the analysis, a common framework for the data analysis life cycle includes the following stages:\n",
    "- **1.Problem Definition:** Define the problem or question that the data analysis aims to address. This involves understanding the business or research context, identifying goals and objectives, and clarifying the scope of the analysis.\n",
    "- **2.Data Collection:** Gather relevant data from various sources, including databases, files, APIs, sensors, or other data repositories. Ensure that the data collected is appropriate for addressing the problem defined in the previous stage.\n",
    "- **3.Data Processing:** Clean and prepare the raw data for analysis. This may involve tasks such as handling missing values, removing duplicates, standardizing formats, and transforming variables. Data preprocessing aims to improve data quality and usability for analysis.\n",
    "- **4.Exploratory Data Analysis (EDA):** Explore the data to understand its characteristics, patterns, and relationships. This involves generating summary statistics, visualizing data distributions, identifying outliers, and detecting correlations between variables. EDA helps uncover insights and inform subsequent analysis steps.\n",
    "- **5.Interpretation and Visualisation:** Interpret the results of the analysis and communicate findings to stakeholders effectively. This may involve creating visualizations, charts, graphs, or reports to present key insights, trends, and conclusions derived from the data analysis.\n",
    "- Throughout the data analysis life cycle, it's important to iterate and refine the analysis process as needed, considering feedback, new data, or changes in requirements to ensure continuous improvement and relevance of the analysis results.s.ul information"
   ]
  },
  {
   "cell_type": "markdown",
   "id": "c5232f47-9f84-45f1-b025-df96283d5fee",
   "metadata": {},
   "source": [
    "##### III- Tools used by Data Scientist "
   ]
  },
  {
   "cell_type": "markdown",
   "id": "19c170d4-9be5-4286-8560-ce01caf21dd2",
   "metadata": {},
   "source": [
    "Data scientists use a variety of tools to analyze data, build models, and derive insights. These tools span a range of categories, including programming languages, libraries, frameworks, and platforms.\n",
    "- **Programming Languages:** The most programming languages used are\n",
    "- **Python**: Widely used for data analysis, machine learning, and scientific computing due to its rich ecosystem of libraries (e.g., NumPy, pandas, scikit-learn, TensorFlow, PyTorch).\n",
    "- **R**: Especially popular in academia and statistics-heavy domains for its comprehensive statistical and graphical capabilities.\n",
    "- **Integrated Development Environments (IDEs):** The IDEs mostly used by data scientists are\n",
    "- **Jupyter Notebooks**: Provides an interactive computing environment for creating and sharing documents that contain live code, equations, visualizations, and narrative text. A data scientist can also use **Spyder** or **Google Colab** where Python language can be used to write codes.\n",
    "- **RStudio**:: An integrated development environment for R programming that enhances productivity with features like syntax highlighting, debugging, and workspace management\n",
    "- **Power BI**, **Tableau**, **Excel**."
   ]
  },
  {
   "cell_type": "markdown",
   "id": "0f6a43f9-39f8-44e9-b28b-0fb01cdf0603",
   "metadata": {},
   "source": [
    "### Category B"
   ]
  },
  {
   "cell_type": "code",
   "execution_count": 1,
   "id": "5dd9967c",
   "metadata": {},
   "outputs": [],
   "source": [
    "# Import libraries\n",
    "import pandas as pd\n",
    "import numpy as np\n",
    "import matplotlib as plt\n",
    "import seaborn as sns\n",
    "#% matplotlib inline"
   ]
  },
  {
   "cell_type": "markdown",
   "id": "94116fec-3e82-48cd-9c6e-ed5f8d604f19",
   "metadata": {},
   "source": [
    "#### - Creation of a dataset of three columns and ten rows  using a Python dictionary and pandas dataframe"
   ]
  },
  {
   "cell_type": "code",
   "execution_count": 2,
   "id": "9e10069d-041c-469b-8e50-02d0e9fe3da5",
   "metadata": {},
   "outputs": [],
   "source": [
    "dict = {'Country':[\"Nigeria\",\"Benin\",\"Senegal\",\"Benin\",\"Benin\",\"Nigeria\",\"Nigeria\",\"Senegal\",\"Nigeria\",\"Nigeria\"],\n",
    "        'School': [\"OAU\", \"UI\",\"OAU\",\"UI\",\"Uniben\",\"UNN\",\"OAU\",\"Unilag\",\"OAU\",\"UI\",],\n",
    "        'Year':[23,34,25,50,32,45,39,51,17,28]}\n",
    "df = pd.DataFrame(dict)"
   ]
  },
  {
   "cell_type": "markdown",
   "id": "e06f4abf-e961-4546-905a-148e61e6e13f",
   "metadata": {},
   "source": [
    "##### 1-Display the Top 5 rows of the dataset"
   ]
  },
  {
   "cell_type": "code",
   "execution_count": 3,
   "id": "e9eec3d9-b013-4edf-9c22-6007b40d68cb",
   "metadata": {},
   "outputs": [
    {
     "data": {
      "text/html": [
       "<div>\n",
       "<style scoped>\n",
       "    .dataframe tbody tr th:only-of-type {\n",
       "        vertical-align: middle;\n",
       "    }\n",
       "\n",
       "    .dataframe tbody tr th {\n",
       "        vertical-align: top;\n",
       "    }\n",
       "\n",
       "    .dataframe thead th {\n",
       "        text-align: right;\n",
       "    }\n",
       "</style>\n",
       "<table border=\"1\" class=\"dataframe\">\n",
       "  <thead>\n",
       "    <tr style=\"text-align: right;\">\n",
       "      <th></th>\n",
       "      <th>Country</th>\n",
       "      <th>School</th>\n",
       "      <th>Year</th>\n",
       "    </tr>\n",
       "  </thead>\n",
       "  <tbody>\n",
       "    <tr>\n",
       "      <th>0</th>\n",
       "      <td>Nigeria</td>\n",
       "      <td>OAU</td>\n",
       "      <td>23</td>\n",
       "    </tr>\n",
       "    <tr>\n",
       "      <th>1</th>\n",
       "      <td>Benin</td>\n",
       "      <td>UI</td>\n",
       "      <td>34</td>\n",
       "    </tr>\n",
       "    <tr>\n",
       "      <th>2</th>\n",
       "      <td>Senegal</td>\n",
       "      <td>OAU</td>\n",
       "      <td>25</td>\n",
       "    </tr>\n",
       "    <tr>\n",
       "      <th>3</th>\n",
       "      <td>Benin</td>\n",
       "      <td>UI</td>\n",
       "      <td>50</td>\n",
       "    </tr>\n",
       "    <tr>\n",
       "      <th>4</th>\n",
       "      <td>Benin</td>\n",
       "      <td>Uniben</td>\n",
       "      <td>32</td>\n",
       "    </tr>\n",
       "  </tbody>\n",
       "</table>\n",
       "</div>"
      ],
      "text/plain": [
       "   Country  School  Year\n",
       "0  Nigeria     OAU    23\n",
       "1    Benin      UI    34\n",
       "2  Senegal     OAU    25\n",
       "3    Benin      UI    50\n",
       "4    Benin  Uniben    32"
      ]
     },
     "execution_count": 3,
     "metadata": {},
     "output_type": "execute_result"
    }
   ],
   "source": [
    "df.head()"
   ]
  },
  {
   "cell_type": "markdown",
   "id": "6c7d0fbe-7b68-4e10-b5e1-6fa56c4feb86",
   "metadata": {},
   "source": [
    "##### 2-Find the Shape of the dataset (number of rows and columns)"
   ]
  },
  {
   "cell_type": "code",
   "execution_count": 4,
   "id": "6422d544-3be4-40ff-81b4-6c51b9853c38",
   "metadata": {},
   "outputs": [
    {
     "data": {
      "text/plain": [
       "(10, 3)"
      ]
     },
     "execution_count": 4,
     "metadata": {},
     "output_type": "execute_result"
    }
   ],
   "source": [
    "df.shape"
   ]
  },
  {
   "cell_type": "code",
   "execution_count": 6,
   "id": "ef3427a2-b69d-402a-b751-f79b525290dc",
   "metadata": {},
   "outputs": [
    {
     "name": "stdout",
     "output_type": "stream",
     "text": [
      "Number of Rows 10\n",
      "Number of Columns 3\n"
     ]
    }
   ],
   "source": [
    "print(\"Number of Rows\",df.shape[0])\n",
    "print(\"Number of Columns\",df.shape[1])"
   ]
  },
  {
   "cell_type": "markdown",
   "id": "67c527bc-3491-4c77-a527-7abcf279dcb6",
   "metadata": {},
   "source": [
    "##### 3-Get Information about the dataset like total number of rows, columns, datatypes of each columns and memory requirement"
   ]
  },
  {
   "cell_type": "code",
   "execution_count": 7,
   "id": "ec62db3a-10be-4cfa-9d34-2f83d730ac96",
   "metadata": {},
   "outputs": [
    {
     "name": "stdout",
     "output_type": "stream",
     "text": [
      "<class 'pandas.core.frame.DataFrame'>\n",
      "RangeIndex: 10 entries, 0 to 9\n",
      "Data columns (total 3 columns):\n",
      " #   Column   Non-Null Count  Dtype \n",
      "---  ------   --------------  ----- \n",
      " 0   Country  10 non-null     object\n",
      " 1   School   10 non-null     object\n",
      " 2   Year     10 non-null     int64 \n",
      "dtypes: int64(1), object(2)\n",
      "memory usage: 368.0+ bytes\n"
     ]
    }
   ],
   "source": [
    "df.info()"
   ]
  },
  {
   "cell_type": "markdown",
   "id": "a0b6e06a-c7bf-49df-902e-46474c5fd46e",
   "metadata": {},
   "source": [
    "##### 4-Get Overall Statistics about the dataset"
   ]
  },
  {
   "cell_type": "code",
   "execution_count": 8,
   "id": "67c7dc1d-6a89-4ad7-816a-4e84e0fc6f2e",
   "metadata": {},
   "outputs": [
    {
     "data": {
      "text/html": [
       "<div>\n",
       "<style scoped>\n",
       "    .dataframe tbody tr th:only-of-type {\n",
       "        vertical-align: middle;\n",
       "    }\n",
       "\n",
       "    .dataframe tbody tr th {\n",
       "        vertical-align: top;\n",
       "    }\n",
       "\n",
       "    .dataframe thead th {\n",
       "        text-align: right;\n",
       "    }\n",
       "</style>\n",
       "<table border=\"1\" class=\"dataframe\">\n",
       "  <thead>\n",
       "    <tr style=\"text-align: right;\">\n",
       "      <th></th>\n",
       "      <th>Year</th>\n",
       "    </tr>\n",
       "  </thead>\n",
       "  <tbody>\n",
       "    <tr>\n",
       "      <th>count</th>\n",
       "      <td>10.000000</td>\n",
       "    </tr>\n",
       "    <tr>\n",
       "      <th>mean</th>\n",
       "      <td>34.400000</td>\n",
       "    </tr>\n",
       "    <tr>\n",
       "      <th>std</th>\n",
       "      <td>11.644741</td>\n",
       "    </tr>\n",
       "    <tr>\n",
       "      <th>min</th>\n",
       "      <td>17.000000</td>\n",
       "    </tr>\n",
       "    <tr>\n",
       "      <th>25%</th>\n",
       "      <td>25.750000</td>\n",
       "    </tr>\n",
       "    <tr>\n",
       "      <th>50%</th>\n",
       "      <td>33.000000</td>\n",
       "    </tr>\n",
       "    <tr>\n",
       "      <th>75%</th>\n",
       "      <td>43.500000</td>\n",
       "    </tr>\n",
       "    <tr>\n",
       "      <th>max</th>\n",
       "      <td>51.000000</td>\n",
       "    </tr>\n",
       "  </tbody>\n",
       "</table>\n",
       "</div>"
      ],
      "text/plain": [
       "            Year\n",
       "count  10.000000\n",
       "mean   34.400000\n",
       "std    11.644741\n",
       "min    17.000000\n",
       "25%    25.750000\n",
       "50%    33.000000\n",
       "75%    43.500000\n",
       "max    51.000000"
      ]
     },
     "execution_count": 8,
     "metadata": {},
     "output_type": "execute_result"
    }
   ],
   "source": [
    "df.describe()"
   ]
  },
  {
   "cell_type": "markdown",
   "id": "7ef89d7d-143b-47e3-b8fb-b4fd8eea8dd9",
   "metadata": {},
   "source": [
    "##### 5-Check for Null Values in the dataset"
   ]
  },
  {
   "cell_type": "code",
   "execution_count": 9,
   "id": "e08950b5-c31d-4f3c-b98e-2e2d2aa5d725",
   "metadata": {},
   "outputs": [
    {
     "data": {
      "text/plain": [
       "Country    0\n",
       "School     0\n",
       "Year       0\n",
       "dtype: int64"
      ]
     },
     "execution_count": 9,
     "metadata": {},
     "output_type": "execute_result"
    }
   ],
   "source": [
    "df.isnull().sum()"
   ]
  },
  {
   "cell_type": "markdown",
   "id": "528eb628-37d5-4013-8cac-eb5d5146db8c",
   "metadata": {},
   "source": [
    "#### VISUALISATION"
   ]
  },
  {
   "cell_type": "markdown",
   "id": "e128015b-02bd-4648-aae5-3f5df76795a6",
   "metadata": {},
   "source": [
    "#### Univariate Analysis"
   ]
  },
  {
   "cell_type": "markdown",
   "id": "05264acf-150d-49b0-9efd-48b4214d157d",
   "metadata": {},
   "source": [
    "##### 1-Find the Most Polpular Country Represented in the dataset (Categorical Column)"
   ]
  },
  {
   "cell_type": "code",
   "execution_count": 10,
   "id": "64de1f94-28a5-4321-b41c-7f8dfed4bc01",
   "metadata": {},
   "outputs": [
    {
     "data": {
      "text/plain": [
       "<Axes: >"
      ]
     },
     "execution_count": 10,
     "metadata": {},
     "output_type": "execute_result"
    },
    {
     "data": {
      "image/png": "[encoded data removed]",
      "text/plain": [
       "<Figure size 640x480 with 1 Axes>"
      ]
     },
     "metadata": {},
     "output_type": "display_data"
    }
   ],
   "source": [
    "df['Country'].value_counts().plot(kind=\"line\")"
   ]
  },
  {
   "cell_type": "markdown",
   "id": "9579af8d-8b53-4b23-bc67-09cc257622fc",
   "metadata": {},
   "source": [
    "##### 2- Proportion of School Representation in the dataset"
   ]
  },
  {
   "cell_type": "code",
   "execution_count": 11,
   "id": "f1bf2c8e-3c37-4c6a-a0fe-e9658ab88e71",
   "metadata": {},
   "outputs": [
    {
     "data": {
      "text/plain": [
       "<Axes: ylabel='School'>"
      ]
     },
     "execution_count": 11,
     "metadata": {},
     "output_type": "execute_result"
    },
    {
     "data": {
      "image/png": "[encoded data removed]",
      "text/plain": [
       "<Figure size 640x480 with 1 Axes>"
      ]
     },
     "metadata": {},
     "output_type": "display_data"
    }
   ],
   "source": [
    "df['School'].value_counts().plot(kind=\"pie\", autopct=\"%1.2f%%\")"
   ]
  },
  {
   "cell_type": "markdown",
   "id": "f4cb7fab-d477-4acf-ba6c-4608bedef924",
   "metadata": {},
   "source": [
    "#### Bivariate Analysis/Multivariate Analysis"
   ]
  },
  {
   "cell_type": "markdown",
   "id": "f5bc2396-054e-4a25-82c9-df5bcacb4ddc",
   "metadata": {},
   "source": [
    "##### 1- Find the School per number of year spent"
   ]
  },
  {
   "cell_type": "code",
   "execution_count": 12,
   "id": "2d15b806-f237-4d43-b9c0-66dcc7ce7af5",
   "metadata": {},
   "outputs": [
    {
     "data": {
      "text/plain": [
       "<Axes: xlabel='School', ylabel='Year'>"
      ]
     },
     "execution_count": 12,
     "metadata": {},
     "output_type": "execute_result"
    },
    {
     "data": {
      "image/png": "[encoded data removed]",
      "text/plain": [
       "<Figure size 640x480 with 1 Axes>"
      ]
     },
     "metadata": {},
     "output_type": "display_data"
    }
   ],
   "source": [
    "sns.barplot(x='School', y='Year', data=df)"
   ]
  },
  {
   "cell_type": "code",
   "execution_count": 13,
   "id": "f916c9d9-7177-411b-b50e-c762db430202",
   "metadata": {},
   "outputs": [
    {
     "data": {
      "text/plain": [
       "<Axes: xlabel='School', ylabel='Year'>"
      ]
     },
     "execution_count": 13,
     "metadata": {},
     "output_type": "execute_result"
    },
    {
     "data": {
      "image/png": "[encoded data removed]",
      "text/plain": [
       "<Figure size 640x480 with 1 Axes>"
      ]
     },
     "metadata": {},
     "output_type": "display_data"
    }
   ],
   "source": [
    "sns.barplot(x='School', y='Year', data=df, hue=df['Country'])"
   ]
  },
  {
   "cell_type": "code",
   "execution_count": 14,
   "id": "299e82ad-a8ca-4662-93c6-fea8e8150744",
   "metadata": {},
   "outputs": [
    {
     "data": {
      "text/html": [
       "<div>\n",
       "<style scoped>\n",
       "    .dataframe tbody tr th:only-of-type {\n",
       "        vertical-align: middle;\n",
       "    }\n",
       "\n",
       "    .dataframe tbody tr th {\n",
       "        vertical-align: top;\n",
       "    }\n",
       "\n",
       "    .dataframe thead th {\n",
       "        text-align: right;\n",
       "    }\n",
       "</style>\n",
       "<table border=\"1\" class=\"dataframe\">\n",
       "  <thead>\n",
       "    <tr style=\"text-align: right;\">\n",
       "      <th>Country</th>\n",
       "      <th>Benin</th>\n",
       "      <th>Nigeria</th>\n",
       "      <th>Senegal</th>\n",
       "    </tr>\n",
       "    <tr>\n",
       "      <th>School</th>\n",
       "      <th></th>\n",
       "      <th></th>\n",
       "      <th></th>\n",
       "    </tr>\n",
       "  </thead>\n",
       "  <tbody>\n",
       "    <tr>\n",
       "      <th>OAU</th>\n",
       "      <td>0</td>\n",
       "      <td>3</td>\n",
       "      <td>1</td>\n",
       "    </tr>\n",
       "    <tr>\n",
       "      <th>UI</th>\n",
       "      <td>2</td>\n",
       "      <td>1</td>\n",
       "      <td>0</td>\n",
       "    </tr>\n",
       "    <tr>\n",
       "      <th>UNN</th>\n",
       "      <td>0</td>\n",
       "      <td>1</td>\n",
       "      <td>0</td>\n",
       "    </tr>\n",
       "    <tr>\n",
       "      <th>Uniben</th>\n",
       "      <td>1</td>\n",
       "      <td>0</td>\n",
       "      <td>0</td>\n",
       "    </tr>\n",
       "    <tr>\n",
       "      <th>Unilag</th>\n",
       "      <td>0</td>\n",
       "      <td>0</td>\n",
       "      <td>1</td>\n",
       "    </tr>\n",
       "  </tbody>\n",
       "</table>\n",
       "</div>"
      ],
      "text/plain": [
       "Country  Benin  Nigeria  Senegal\n",
       "School                          \n",
       "OAU          0        3        1\n",
       "UI           2        1        0\n",
       "UNN          0        1        0\n",
       "Uniben       1        0        0\n",
       "Unilag       0        0        1"
      ]
     },
     "execution_count": 14,
     "metadata": {},
     "output_type": "execute_result"
    }
   ],
   "source": [
    "pd.crosstab(df['School'],df['Country'])"
   ]
  },
  {
   "cell_type": "code",
   "execution_count": 15,
   "id": "e9fc31e5-7dbb-45c9-98eb-531921e6ea57",
   "metadata": {},
   "outputs": [
    {
     "data": {
      "text/plain": [
       "<Axes: xlabel='Country', ylabel='School'>"
      ]
     },
     "execution_count": 15,
     "metadata": {},
     "output_type": "execute_result"
    },
    {
     "data": {
      "image/png": "[encoded data removed]",
      "text/plain": [
       "<Figure size 640x480 with 2 Axes>"
      ]
     },
     "metadata": {},
     "output_type": "display_data"
    }
   ],
   "source": [
    "sns.heatmap(pd.crosstab(df['School'],df['Country']))"
   ]
  },
  {
   "cell_type": "markdown",
   "id": "4e1dc1f7-4a8f-4c49-8fbd-694744ccde5a",
   "metadata": {},
   "source": [
    "### Category C"
   ]
  },
  {
   "cell_type": "markdown",
   "id": "ac95b89c-8068-4e86-91be-6dff096603ab",
   "metadata": {},
   "source": [
    "See my GitHub account as the answer to this section"
   ]
  },
  {
   "cell_type": "code",
   "execution_count": null,
   "id": "ddcd5761-666a-4e20-989a-daec7c2330d3",
   "metadata": {},
   "outputs": [],
   "source": []
  }
 ],
 "metadata": {
  "kernelspec": {
   "display_name": "Python 3",
   "language": "python",
   "name": "python3"
  },
  "language_info": {
   "codemirror_mode": {
    "name": "ipython",
    "version": 3
   },
   "file_extension": ".py",
   "mimetype": "text/x-python",
   "name": "python",
   "nbconvert_exporter": "python",
   "pygments_lexer": "ipython3",
   "version": "3.10.11"
  }
 },
 "nbformat": 4,
 "nbformat_minor": 5
}
